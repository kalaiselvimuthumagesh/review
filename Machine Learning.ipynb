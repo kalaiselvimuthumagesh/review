{
 "cells": [
  {
   "cell_type": "markdown",
   "metadata": {},
   "source": [
    "## Machine Learning"
   ]
  },
  {
   "cell_type": "code",
   "execution_count": null,
   "metadata": {},
   "outputs": [],
   "source": [
    "# Machine Learning is a part of data.\n",
    "# Machine is trying to findout the pattern with a hardware ie) is the algorithn\n",
    "#they do the calculations machines used to do\n"
   ]
  },
  {
   "cell_type": "code",
   "execution_count": 1,
   "metadata": {},
   "outputs": [],
   "source": [
    "# we cannot select the algorithnm. It can be selected by the data"
   ]
  },
  {
   "cell_type": "code",
   "execution_count": 2,
   "metadata": {},
   "outputs": [],
   "source": [
    "#Weight and height is propotional, then w=mH+-e\n",
    "# parameters are representing the parttern between the dataset."
   ]
  },
  {
   "cell_type": "code",
   "execution_count": 3,
   "metadata": {},
   "outputs": [],
   "source": [
    "#value of m and e we can find using the code."
   ]
  },
  {
   "cell_type": "code",
   "execution_count": 4,
   "metadata": {},
   "outputs": [],
   "source": [
    "#this is linear equation of the line"
   ]
  },
  {
   "cell_type": "code",
   "execution_count": 5,
   "metadata": {},
   "outputs": [],
   "source": [
    "#Any two data set we can derive the values\n",
    "# when we find m and e using the linear regreesion. to find a relation betwen the dataset"
   ]
  },
  {
   "cell_type": "markdown",
   "metadata": {},
   "source": [
    "#Ml\n",
    "\n",
    "supervised Ml -  Regression and classification\n",
    "unsupervised ML- clustering\n",
    "semi-supervised Ml - Reg + class + clustering\n",
    "\n",
    "\n",
    "supervised input of output . Machine find output with input. \n",
    "regression mean finding out a relation .\n",
    "classification is try to separate the data into classes.\n",
    "\n",
    "semi supervised is combination of supervised and unsupervised dataa et.\n"
   ]
  },
  {
   "cell_type": "code",
   "execution_count": null,
   "metadata": {},
   "outputs": [],
   "source": [
    "## supervised  Machine Learning\n",
    "1. Linear Regression\n"
   ]
  },
  {
   "cell_type": "code",
   "execution_count": null,
   "metadata": {},
   "outputs": [],
   "source": []
  }
 ],
 "metadata": {
  "kernelspec": {
   "display_name": "Python 3",
   "language": "python",
   "name": "python3"
  },
  "language_info": {
   "codemirror_mode": {
    "name": "ipython",
    "version": 3
   },
   "file_extension": ".py",
   "mimetype": "text/x-python",
   "name": "python",
   "nbconvert_exporter": "python",
   "pygments_lexer": "ipython3",
   "version": "3.8.3"
  }
 },
 "nbformat": 4,
 "nbformat_minor": 4
}
