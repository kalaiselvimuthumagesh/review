{
 "cells": [
  {
   "cell_type": "markdown",
   "metadata": {},
   "source": [
    "# While loop"
   ]
  },
  {
   "cell_type": "code",
   "execution_count": 9,
   "metadata": {},
   "outputs": [
    {
     "name": "stdout",
     "output_type": "stream",
     "text": [
      "this is valid inside elif\n"
     ]
    }
   ],
   "source": [
    "a=10\n",
    "b=20\n",
    "\n",
    "if a == 10 and b > 20:\n",
    "    print(\"these are valid numbers\")\n",
    "elif a ==10 and b<=20:\n",
    "    print(\"this is valid inside elif\")\n",
    "else:\n",
    "    print(\"not valid numbers\")\n",
    "    "
   ]
  },
  {
   "cell_type": "code",
   "execution_count": 2,
   "metadata": {},
   "outputs": [
    {
     "data": {
      "text/plain": [
       "True"
      ]
     },
     "execution_count": 2,
     "metadata": {},
     "output_type": "execute_result"
    }
   ],
   "source": [
    " a == 10 and b == 20\n",
    "    "
   ]
  },
  {
   "cell_type": "code",
   "execution_count": 3,
   "metadata": {},
   "outputs": [],
   "source": [
    "a=10\n",
    "b=20\n",
    "\n",
    "if a == 10 and b > 20:\n",
    "    print(\"these are valid numbers\")"
   ]
  },
  {
   "cell_type": "code",
   "execution_count": 4,
   "metadata": {},
   "outputs": [
    {
     "data": {
      "text/plain": [
       "False"
      ]
     },
     "execution_count": 4,
     "metadata": {},
     "output_type": "execute_result"
    }
   ],
   "source": [
    "a == 10 and b > 20"
   ]
  },
  {
   "cell_type": "code",
   "execution_count": 10,
   "metadata": {},
   "outputs": [
    {
     "name": "stdout",
     "output_type": "stream",
     "text": [
      "these are valid numbers\n"
     ]
    }
   ],
   "source": [
    "a=10\n",
    "b=20\n",
    "\n",
    "if a == 10 or b > 20:\n",
    "    print(\"these are valid numbers\")\n",
    "elif a ==10 and b<=20:\n",
    "    print(\"this is valid inside elif\")\n",
    "else:\n",
    "    print(\"not valid numbers\")\n",
    "    "
   ]
  },
  {
   "cell_type": "code",
   "execution_count": 11,
   "metadata": {},
   "outputs": [],
   "source": [
    "# task take a input from your keyboard as your first name and lastname\n",
    "#try to validate of write multiple condition by yourself"
   ]
  },
  {
   "cell_type": "code",
   "execution_count": 12,
   "metadata": {},
   "outputs": [
    {
     "name": "stdout",
     "output_type": "stream",
     "text": [
      "enter your first name:kalai\n",
      "enter your last name:selvi\n"
     ]
    }
   ],
   "source": [
    "first_name=input(\"enter your first name:\")\n",
    "last_name=input(\"enter your last name:\")"
   ]
  },
  {
   "cell_type": "code",
   "execution_count": 17,
   "metadata": {},
   "outputs": [
    {
     "name": "stdout",
     "output_type": "stream",
     "text": [
      "enter your first name:gjjj\n",
      "enter your last name:hjjkkj\n",
      "no name\n"
     ]
    }
   ],
   "source": [
    "first_name=input(\"enter your first name:\")\n",
    "last_name=input(\"enter your last name:\")\n",
    "\n",
    "if first_name == \"kalai\" and last_name == \"selvi\":\n",
    "    print(\"Your name is beautiful\")\n",
    "elif first_name == \"kalai\" or last_name == \"selvi\":\n",
    "    print(\"superb\")\n",
    "else:\n",
    "    print(\"no name like this\")"
   ]
  },
  {
   "cell_type": "code",
   "execution_count": 18,
   "metadata": {},
   "outputs": [
    {
     "name": "stdout",
     "output_type": "stream",
     "text": [
      "valid no\n"
     ]
    }
   ],
   "source": [
    "if a == 10 :print(\"valid no\") ## this is also fine"
   ]
  },
  {
   "cell_type": "code",
   "execution_count": 1,
   "metadata": {},
   "outputs": [
    {
     "name": "stdout",
     "output_type": "stream",
     "text": [
      "my speed\n",
      "my speed\n",
      "my speed\n",
      "my speed\n",
      "my speed\n",
      "my speed\n",
      "my speed\n",
      "my speed\n",
      "my speed\n"
     ]
    }
   ],
   "source": [
    "initial_speed = 0\n",
    "final_speed = 100\n",
    "count =1\n",
    "while initial_speed <= final_speed :\n",
    "    print(\"my speed\")\n",
    "    count=count+1\n",
    "    if count == 10:\n",
    "        break\n"
   ]
  },
  {
   "cell_type": "code",
   "execution_count": 2,
   "metadata": {},
   "outputs": [
    {
     "name": "stdout",
     "output_type": "stream",
     "text": [
      "1\n",
      "2\n",
      "3\n",
      "4\n"
     ]
    }
   ],
   "source": [
    "i=1\n",
    "j=5\n",
    "while i<j:\n",
    "    print(i)\n",
    "    i=i+1\n",
    "    if i==5:\n",
    "        break"
   ]
  },
  {
   "cell_type": "code",
   "execution_count": null,
   "metadata": {},
   "outputs": [],
   "source": []
  }
 ],
 "metadata": {
  "kernelspec": {
   "display_name": "Python 3",
   "language": "python",
   "name": "python3"
  },
  "language_info": {
   "codemirror_mode": {
    "name": "ipython",
    "version": 3
   },
   "file_extension": ".py",
   "mimetype": "text/x-python",
   "name": "python",
   "nbconvert_exporter": "python",
   "pygments_lexer": "ipython3",
   "version": "3.8.3"
  }
 },
 "nbformat": 4,
 "nbformat_minor": 4
}
